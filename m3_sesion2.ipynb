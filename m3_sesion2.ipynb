#Este es un notebook de la sesión 2 del modulo

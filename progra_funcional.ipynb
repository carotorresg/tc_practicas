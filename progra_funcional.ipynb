{
  "nbformat": 4,
  "nbformat_minor": 0,
  "metadata": {
    "colab": {
      "provenance": []
    },
    "kernelspec": {
      "name": "python3",
      "display_name": "Python 3"
    },
    "language_info": {
      "name": "python"
    }
  },
  "cells": [
    {
      "cell_type": "code",
      "execution_count": 2,
      "metadata": {
        "colab": {
          "base_uri": "https://localhost:8080/"
        },
        "id": "3b2QBnHvF_ok",
        "outputId": "83272224-77da-4892-ff80-b62481755358"
      },
      "outputs": [
        {
          "output_type": "stream",
          "name": "stdout",
          "text": [
            "8\n"
          ]
        },
        {
          "output_type": "execute_result",
          "data": {
            "text/plain": [
              "[2, 4, 6, 8, 10, 12, 14, 16, 18]"
            ]
          },
          "metadata": {},
          "execution_count": 2
        }
      ],
      "source": [
        "#definimos un diccionario\n",
        "numeros=[1,2,3,4,5,6,7,8,9]\n",
        "print(numeros[-2])\n",
        "\n",
        "#definimos la función que vamos a aplicar en todo\n",
        "def dobles(numero):\n",
        "  resultado=numero*2\n",
        "  return resultado\n",
        "#asignamos una variable que guarde los resultados\n",
        "num_dobles= list(map(dobles,numeros))"
      ]
    },
    {
      "cell_type": "code",
      "source": [
        "#definimos un diccionario\n",
        "numeros=[1,2,3,4,5,6,7,8,9]\n",
        "\n",
        "\n",
        "#definimos la función que vamos a aplicar en todo\n",
        "def non_es_0(numero):\n",
        "  if numero%2==0:\n",
        "    return numero                      #función que detecta si el número es par\n",
        "  else:\n",
        "    return 0\n",
        "\n",
        "#asignamos una variable que guarde los resultados\n",
        "doble1=list(map(non_es_0,numeros))\n",
        "print(doble1)\n",
        "\n",
        "def dinero(numeros):                  #función donde ponemos el formato de $$$\n",
        "  formato=f'${numeros}MXN'\n",
        "  return formato\n",
        "\n",
        "list(map(dinero,numeros))\n",
        "\n",
        "################################################################################\n",
        "#Función filter\n",
        "def par(numero):\n",
        "  if numero%2==0:\n",
        "    return True\n",
        "  else:\n",
        "    return False\n",
        "\n",
        "list(filter(par,numeros))\n"
      ],
      "metadata": {
        "colab": {
          "base_uri": "https://localhost:8080/"
        },
        "id": "czwOw0SPgPMd",
        "outputId": "4cfdf2cb-3bfc-4f52-ac6f-38f5a40360b1"
      },
      "execution_count": 9,
      "outputs": [
        {
          "output_type": "stream",
          "name": "stdout",
          "text": [
            "[0, 2, 0, 4, 0, 6, 0, 8, 0]\n"
          ]
        },
        {
          "output_type": "execute_result",
          "data": {
            "text/plain": [
              "[2, 4, 6, 8]"
            ]
          },
          "metadata": {},
          "execution_count": 9
        }
      ]
    },
    {
      "cell_type": "code",
      "source": [
        "##### O P E R A D O R E S  B O O L E A N O S ##########\n",
        "# Ejercicio 1: Que me imprima solo los números nones y menores a 50\n",
        "numero=[3,6,78,54,36,55,32,13,37,89,87,88,90,63,74,5,97,6,3,225,46,79]\n",
        "#Funcion 1: numero non\n",
        "def impar(numero):\n",
        "  if numero%2==0:\n",
        "    return True\n",
        "  else:\n",
        "    return False\n",
        "\n",
        "def menor_50(numero):\n",
        "  if numero < 50:\n",
        "    return True\n",
        "  else:\n",
        "    return False\n",
        "\n",
        "def funcion_global(numero):\n",
        "  if impar(numero) or menor_50(numero):\n",
        "    return True\n",
        "  else:\n",
        "    return False\n",
        "\n",
        "list(filter(funcion_global,numero))"
      ],
      "metadata": {
        "colab": {
          "base_uri": "https://localhost:8080/"
        },
        "id": "iUfvWmG-Bh7A",
        "outputId": "8d6e35de-0cbf-4f7a-82cc-cd8a880a2dc2"
      },
      "execution_count": 4,
      "outputs": [
        {
          "output_type": "execute_result",
          "data": {
            "text/plain": [
              "[3, 6, 78, 54, 36, 32, 13, 37, 88, 90, 74, 5, 6, 3, 46]"
            ]
          },
          "metadata": {},
          "execution_count": 4
        }
      ]
    }
  ]
}
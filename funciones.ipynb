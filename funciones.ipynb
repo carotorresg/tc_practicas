{
  "nbformat": 4,
  "nbformat_minor": 0,
  "metadata": {
    "colab": {
      "provenance": [],
      "authorship_tag": "ABX9TyO+aiMGA1ZgzuHEiaYDOyto",
      "include_colab_link": true
    },
    "kernelspec": {
      "name": "python3",
      "display_name": "Python 3"
    },
    "language_info": {
      "name": "python"
    }
  },
  "cells": [
    {
      "cell_type": "markdown",
      "metadata": {
        "id": "view-in-github",
        "colab_type": "text"
      },
      "source": [
        "<a href=\"https://colab.research.google.com/github/carotorresg/tc_practicas/blob/main/funciones.ipynb\" target=\"_parent\"><img src=\"https://colab.research.google.com/assets/colab-badge.svg\" alt=\"Open In Colab\"/></a>"
      ]
    },
    {
      "cell_type": "code",
      "execution_count": null,
      "metadata": {
        "colab": {
          "base_uri": "https://localhost:8080/"
        },
        "id": "YGimMdKE4MtQ",
        "outputId": "32ade694-c4b9-4cbc-ecf6-cef5657fb401"
      },
      "outputs": [
        {
          "output_type": "stream",
          "name": "stdout",
          "text": [
            "3\n"
          ]
        }
      ],
      "source": [
        "def suma(a, b):\n",
        "  return a + b\n",
        "\n",
        "result = suma(1, 2)\n",
        "print(result)"
      ]
    },
    {
      "cell_type": "code",
      "source": [
        "def sumar(*args):\n",
        "  return sum(args)\n",
        "\n",
        "resultado=sumar(15,2,50)\n",
        "print(resultado)\n"
      ],
      "metadata": {
        "colab": {
          "base_uri": "https://localhost:8080/"
        },
        "id": "ws3toeiQq5Rp",
        "outputId": "13497dc8-6f6a-45e1-d861-d3a7f364c64a"
      },
      "execution_count": null,
      "outputs": [
        {
          "output_type": "stream",
          "name": "stdout",
          "text": [
            "67\n"
          ]
        }
      ]
    },
    {
      "cell_type": "code",
      "source": [
        "def par_impar(numero):\n",
        "  if numero%2==0:\n",
        "    return \"True\"\n",
        "  else:\n",
        "    return \"False\"\n",
        "\n",
        "par_impar(89)"
      ],
      "metadata": {
        "colab": {
          "base_uri": "https://localhost:8080/",
          "height": 36
        },
        "id": "FMnENn9w2J24",
        "outputId": "50c8e374-ff6c-4f65-9587-1c1f8358b616"
      },
      "execution_count": null,
      "outputs": [
        {
          "output_type": "execute_result",
          "data": {
            "text/plain": [
              "'False'"
            ],
            "application/vnd.google.colaboratory.intrinsic+json": {
              "type": "string"
            }
          },
          "metadata": {},
          "execution_count": 12
        }
      ]
    },
    {
      "cell_type": "code",
      "source": [
        "#Aprendiendo iteraciones\n",
        "## Tu función va aquí\n",
        "def porcentaje(num1, num2):\n",
        "  porc=num1*100/num2\n",
        "  return porc\n",
        "\n",
        "def string_muestra(num1, num2, porcentaje):\n",
        "  print(f'{num1} es el {porcentaje}% de {num2}')\n",
        "  return None\n",
        "\n",
        "resultado_1 = porcentaje(34,100)\n",
        "string_muestra(34,100,resultado_1)\n",
        "\n",
        "resultado_2 = porcentaje(57,127)\n",
        "string_muestra(57,127,resultado_2)\n",
        "\n",
        "resultado_3 = porcentaje(12,228)\n",
        "string_muestra(12,228,resultado_3)\n",
        "\n",
        "resultado_4 = porcentaje(87,90)\n",
        "string_muestra(87,90,resultado_4)\n",
        "\n",
        "resultado_5 = porcentaje(1,999)\n",
        "string_muestra(1,999,resultado_5)\n",
        "\n",
        "resultado_6 = porcentaje(66,66)\n",
        "string_muestra(66,66,resultado_6)"
      ],
      "metadata": {
        "colab": {
          "base_uri": "https://localhost:8080/"
        },
        "id": "kgzQDWbj3DRf",
        "outputId": "fe9ca3e6-5d6d-4eb1-e867-77d3bdc61a9b"
      },
      "execution_count": null,
      "outputs": [
        {
          "output_type": "stream",
          "name": "stdout",
          "text": [
            "34 es el 34.0% de 100\n",
            "57 es el 44.881889763779526% de 127\n",
            "12 es el 5.2631578947368425% de 228\n",
            "87 es el 96.66666666666667% de 90\n",
            "1 es el 0.1001001001001001% de 999\n",
            "66 es el 100.0% de 66\n"
          ]
        }
      ]
    },
    {
      "cell_type": "code",
      "source": [
        "#Reto 5\n",
        "\n",
        "#diccionario de usuarios\n",
        "usuarios = {\n",
        "    \"manolito_garcia\": {\n",
        "        \"rol\": \"admin\"\n",
        "    },\n",
        "    \"sebas_macaco_23\": {\n",
        "        \"rol\": \"editor\",\n",
        "        \"nip_de_acceso\": 3594\n",
        "    },\n",
        "    \"la_susanita_maestra\": {\n",
        "        \"rol\": \"admin\"\n",
        "    },\n",
        "    \"pepe_le_pu_88\": {\n",
        "        \"rol\": \"lector\"\n",
        "    },\n",
        "    \"jonny_bravo_estuvo_aqui\": {\n",
        "        \"rol\": \"editor\",\n",
        "        \"nip_de_acceso\": 9730\n",
        "    },\n",
        "    \"alfonso_torres_69\": {\n",
        "        \"rol\": \"editor\",\n",
        "        \"nip_de_acceso\": 2849\n",
        "    },\n",
        "    \"jocosita_99\": {\n",
        "        \"rol\": \"lector\"\n",
        "    }\n",
        "}\n",
        "\n",
        "#Definiendo el nivel de acceso\n",
        "def nivel_acceso(base_datos,username,codigo):\n",
        "  if base_datos[username][\"rol\"]==\"admin\":\n",
        "    return 1\n",
        "  elif base_datos[username][\"rol\"]==\"lector\":\n",
        "    return 2\n",
        "  elif base_datos[username][\"rol\"]==\"editor\" and base_datos[codigo]== nip_de_acceso:\n",
        "    if base_datos[username][\"nip_de_acceso\"]==base_datos[username][\"nip_de_acceso\"]:\n",
        "      return 1\n",
        "    else:\n",
        "        return 0\n",
        "\n",
        "\n"
      ],
      "metadata": {
        "id": "vGM4g4fs9Goy"
      },
      "execution_count": null,
      "outputs": []
    }
  ]
}